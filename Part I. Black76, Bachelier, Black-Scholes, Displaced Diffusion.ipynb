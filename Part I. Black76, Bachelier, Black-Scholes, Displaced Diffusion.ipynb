{
 "cells": [
  {
   "cell_type": "code",
   "execution_count": 9,
   "id": "3167f709",
   "metadata": {},
   "outputs": [],
   "source": [
    "# importing labraries\n",
    "import numpy as np\n",
    "from scipy.stats import norm\n",
    "import pandas as pd\n",
    "import math"
   ]
  },
  {
   "cell_type": "markdown",
   "id": "65d2f4ce",
   "metadata": {},
   "source": [
    "> # PART I"
   ]
  },
  {
   "cell_type": "code",
   "execution_count": 10,
   "id": "7f6e9fec",
   "metadata": {},
   "outputs": [],
   "source": [
    "def discount_T(T, r):\n",
    "    return np.exp(-r * (T))"
   ]
  },
  {
   "cell_type": "markdown",
   "id": "022db3c3",
   "metadata": {},
   "source": [
    "> ## `Black-Scholes model` \n",
    "\n",
    "## $ V_c = S_0Φ(d_1) − Ke^{−rT} Φ(d_2) $"
   ]
  },
  {
   "cell_type": "code",
   "execution_count": 11,
   "id": "037d66bc",
   "metadata": {},
   "outputs": [],
   "source": [
    "# Lognormal model\n",
    "def Black_Scholes(S, K, sigma, T, r, cash=1):\n",
    "    d1 = (math.log(S / K) + (r + (sigma ** 2) / 2) * T) / (sigma * math.sqrt(T))\n",
    "    d2 = d1 - sigma * math.sqrt(T)\n",
    "    decimal_places = 6\n",
    "    \n",
    "    # Define the to be returned DataFrame data as NaN\n",
    "    data = np.NaN\n",
    "    # Define your row names and column names\n",
    "    row_names = ['Van', 'DCN', 'DAN']\n",
    "    col_names = ['Call', 'Put']\n",
    "\n",
    "    # Create the DataFrame\n",
    "    BS_value = pd.DataFrame(data, index=row_names, columns=col_names)\n",
    "    \n",
    "    # Value on Vanilla call/put \n",
    "    call_value = (S * norm.cdf(d1) - K * discount_T(T, r) * norm.cdf(d2))\n",
    "    BS_value.loc['Van', 'Call'] = round(call_value, decimal_places)        \n",
    "    put_value = (-S * norm.cdf(-d1) + K * discount_T(T, r) * norm.cdf(-d2))\n",
    "    BS_value.loc['Van', 'Put'] = round(put_value, decimal_places)\n",
    "    \n",
    "    # Value on Digital Cash-or-Nothing call/put     \n",
    "    call_value = discount_T(T, r) *\\\n",
    "        (cash * norm.cdf(d2))\n",
    "    BS_value.loc['DCN', 'Call'] = round(call_value, decimal_places)        \n",
    "    put_value = discount_T(T, r) *\\\n",
    "        (cash * norm.cdf(-d2))\n",
    "    BS_value.loc['DCN', 'Put'] = round(put_value, decimal_places)    \n",
    "    \n",
    "    # Value on Digital Asset-or-Nothing call/put     \n",
    "    call_value = \\\n",
    "        (S * norm.cdf(d1))\n",
    "    BS_value.loc['DAN', 'Call'] = round(call_value, decimal_places)        \n",
    "    put_value = \\\n",
    "        (S * norm.cdf(-d1))\n",
    "    BS_value.loc['DAN', 'Put'] = round(put_value, decimal_places) \n",
    "    \n",
    "    return BS_value"
   ]
  },
  {
   "cell_type": "code",
   "execution_count": 12,
   "id": "4077c954",
   "metadata": {
    "scrolled": true
   },
   "outputs": [
    {
     "data": {
      "text/html": [
       "<div>\n",
       "<style scoped>\n",
       "    .dataframe tbody tr th:only-of-type {\n",
       "        vertical-align: middle;\n",
       "    }\n",
       "\n",
       "    .dataframe tbody tr th {\n",
       "        vertical-align: top;\n",
       "    }\n",
       "\n",
       "    .dataframe thead th {\n",
       "        text-align: right;\n",
       "    }\n",
       "</style>\n",
       "<table border=\"1\" class=\"dataframe\">\n",
       "  <thead>\n",
       "    <tr style=\"text-align: right;\">\n",
       "      <th></th>\n",
       "      <th>Call</th>\n",
       "      <th>Put</th>\n",
       "    </tr>\n",
       "  </thead>\n",
       "  <tbody>\n",
       "    <tr>\n",
       "      <th>Van</th>\n",
       "      <td>0.044730</td>\n",
       "      <td>0.039742</td>\n",
       "    </tr>\n",
       "    <tr>\n",
       "      <th>DCN</th>\n",
       "      <td>1.485502</td>\n",
       "      <td>1.499536</td>\n",
       "    </tr>\n",
       "    <tr>\n",
       "      <th>DAN</th>\n",
       "      <td>0.539897</td>\n",
       "      <td>0.460103</td>\n",
       "    </tr>\n",
       "  </tbody>\n",
       "</table>\n",
       "</div>"
      ],
      "text/plain": [
       "         Call       Put\n",
       "Van  0.044730  0.039742\n",
       "DCN  1.485502  1.499536\n",
       "DAN  0.539897  0.460103"
      ]
     },
     "execution_count": 12,
     "metadata": {},
     "output_type": "execute_result"
    }
   ],
   "source": [
    "(S, K, Sigma, T, r, amt) =\\\n",
    "(1, 1, 0.15, 0.5, 0.01, 3)\n",
    "Black_Scholes(S, K, Sigma, T, r, amt)"
   ]
  },
  {
   "cell_type": "code",
   "execution_count": null,
   "id": "c2aff3c1",
   "metadata": {},
   "outputs": [],
   "source": []
  },
  {
   "cell_type": "markdown",
   "id": "3e5b6ea9",
   "metadata": {},
   "source": [
    "> ## `Bachelier model`"
   ]
  },
  {
   "cell_type": "code",
   "execution_count": 13,
   "id": "7d0a87a1",
   "metadata": {},
   "outputs": [],
   "source": [
    "# Normal model\n",
    "def Bachelier(S, K, sigma, T, r, cash = 1):\n",
    "    d = (K - S) / (sigma * np.sqrt(T))         \n",
    "    decimal_places = 6\n",
    "    # Define the to be returned DataFrame data as NaN\n",
    "    data = np.NaN\n",
    "    # Define your row names and column names\n",
    "    row_names = ['Van', 'DCN', 'DAN']\n",
    "    col_names = ['Call', 'Put']\n",
    "\n",
    "    # Create the DataFrame\n",
    "    Bach_value = pd.DataFrame(data, index=row_names, columns=col_names)\n",
    "    \n",
    "    # Value on Vanilla call/put \n",
    "    call_value = discount_T(T, r) *\\\n",
    "        ((S - K) * norm.cdf(-d) + sigma * math.sqrt(T) * norm.pdf(-d))\n",
    "    Bach_value.loc['Van', 'Call'] = round(call_value, decimal_places)        \n",
    "    put_value = discount_T(T, r) *\\\n",
    "        ((K - S) * norm.cdf(d) + sigma * math.sqrt(T) * norm.pdf(d))\n",
    "    Bach_value.loc['Van', 'Put'] = round(put_value, decimal_places)\n",
    "    \n",
    "    # Value on Digital Cash-or-Nothing call/put     \n",
    "    call_value = discount_T(T, r) *\\\n",
    "        (cash * norm.cdf(-d))\n",
    "    Bach_value.loc['DCN', 'Call'] = round(call_value, decimal_places)        \n",
    "    put_value = discount_T(T, r) *\\\n",
    "        (cash * norm.cdf(d))\n",
    "    Bach_value.loc['DCN', 'Put'] = round(put_value, decimal_places)    \n",
    "    \n",
    "    # Value on Digital Asset-or-Nothing call/put     \n",
    "    call_value = discount_T(T, r) *\\\n",
    "        ((S) * norm.cdf(-d) + sigma * math.sqrt(T) * norm.pdf(-d))\n",
    "    Bach_value.loc['DAN', 'Call'] = round(call_value, decimal_places)        \n",
    "    put_value = discount_T(T, r) *\\\n",
    "        ((S) * norm.cdf(d) - sigma * math.sqrt(T) * norm.pdf(d))\n",
    "    Bach_value.loc['DAN', 'Put'] = round(put_value, decimal_places)      \n",
    "    \n",
    "    return Bach_value"
   ]
  },
  {
   "cell_type": "code",
   "execution_count": 14,
   "id": "16d368e9",
   "metadata": {},
   "outputs": [
    {
     "data": {
      "text/html": [
       "<div>\n",
       "<style scoped>\n",
       "    .dataframe tbody tr th:only-of-type {\n",
       "        vertical-align: middle;\n",
       "    }\n",
       "\n",
       "    .dataframe tbody tr th {\n",
       "        vertical-align: top;\n",
       "    }\n",
       "\n",
       "    .dataframe thead th {\n",
       "        text-align: right;\n",
       "    }\n",
       "</style>\n",
       "<table border=\"1\" class=\"dataframe\">\n",
       "  <thead>\n",
       "    <tr style=\"text-align: right;\">\n",
       "      <th></th>\n",
       "      <th>Call</th>\n",
       "      <th>Put</th>\n",
       "    </tr>\n",
       "  </thead>\n",
       "  <tbody>\n",
       "    <tr>\n",
       "      <th>Van</th>\n",
       "      <td>0.071572</td>\n",
       "      <td>0.021821</td>\n",
       "    </tr>\n",
       "    <tr>\n",
       "      <th>DCN</th>\n",
       "      <td>6.779259</td>\n",
       "      <td>3.170865</td>\n",
       "    </tr>\n",
       "    <tr>\n",
       "      <th>DAN</th>\n",
       "      <td>0.749498</td>\n",
       "      <td>0.295265</td>\n",
       "    </tr>\n",
       "  </tbody>\n",
       "</table>\n",
       "</div>"
      ],
      "text/plain": [
       "         Call       Put\n",
       "Van  0.071572  0.021821\n",
       "DCN  6.779259  3.170865\n",
       "DAN  0.749498  0.295265"
      ]
     },
     "execution_count": 14,
     "metadata": {},
     "output_type": "execute_result"
    }
   ],
   "source": [
    "(S, K, Sigma, T, r, amt) =\\\n",
    "(1.05, 1, 0.15, 0.5, 0.01, 10)\n",
    "Bachelier(S, K, Sigma, T, r, amt)"
   ]
  },
  {
   "cell_type": "code",
   "execution_count": null,
   "id": "0abaa18b",
   "metadata": {},
   "outputs": [],
   "source": []
  },
  {
   "cell_type": "markdown",
   "id": "7ba44892",
   "metadata": {},
   "source": [
    "> ## `Black76 model`"
   ]
  },
  {
   "cell_type": "code",
   "execution_count": 15,
   "id": "60359e08",
   "metadata": {},
   "outputs": [],
   "source": [
    "def Black76(F, K, sigma, T, r, cash=1):\n",
    "    S = F * discount_T(T, r)\n",
    "    B76 = Black_Scholes(S, K, sigma, T, r, cash)\n",
    "    return B76"
   ]
  },
  {
   "cell_type": "code",
   "execution_count": 16,
   "id": "22179526",
   "metadata": {},
   "outputs": [
    {
     "data": {
      "text/html": [
       "<div>\n",
       "<style scoped>\n",
       "    .dataframe tbody tr th:only-of-type {\n",
       "        vertical-align: middle;\n",
       "    }\n",
       "\n",
       "    .dataframe tbody tr th {\n",
       "        vertical-align: top;\n",
       "    }\n",
       "\n",
       "    .dataframe thead th {\n",
       "        text-align: right;\n",
       "    }\n",
       "</style>\n",
       "<table border=\"1\" class=\"dataframe\">\n",
       "  <thead>\n",
       "    <tr style=\"text-align: right;\">\n",
       "      <th></th>\n",
       "      <th>Call</th>\n",
       "      <th>Put</th>\n",
       "    </tr>\n",
       "  </thead>\n",
       "  <tbody>\n",
       "    <tr>\n",
       "      <th>Van</th>\n",
       "      <td>15.584193</td>\n",
       "      <td>0.120521</td>\n",
       "    </tr>\n",
       "    <tr>\n",
       "      <th>DCN</th>\n",
       "      <td>0.869760</td>\n",
       "      <td>0.035077</td>\n",
       "    </tr>\n",
       "    <tr>\n",
       "      <th>DAN</th>\n",
       "      <td>111.257848</td>\n",
       "      <td>3.737940</td>\n",
       "    </tr>\n",
       "  </tbody>\n",
       "</table>\n",
       "</div>"
      ],
      "text/plain": [
       "           Call       Put\n",
       "Van   15.584193  0.120521\n",
       "DCN    0.869760  0.035077\n",
       "DAN  111.257848  3.737940"
      ]
     },
     "execution_count": 16,
     "metadata": {},
     "output_type": "execute_result"
    }
   ],
   "source": [
    "(F, K, Sigma, T, r) =\\\n",
    "(127.09, 110, 0.08, 1, 0.1)\n",
    "Black76(F, K, Sigma, T, r)"
   ]
  },
  {
   "cell_type": "code",
   "execution_count": null,
   "id": "107d1243",
   "metadata": {},
   "outputs": [],
   "source": []
  },
  {
   "cell_type": "markdown",
   "id": "cec23945",
   "metadata": {},
   "source": [
    "> ## `Displaced-diffusion model`"
   ]
  },
  {
   "cell_type": "code",
   "execution_count": 17,
   "id": "e8796b3e",
   "metadata": {},
   "outputs": [],
   "source": [
    "def Displaced_diffusion(F, K, sigma, T, r, cash=1, beta=0.7):\n",
    "    DF = Black_Scholes(F/beta, K+F*(1-beta)/beta, sigma*beta, T, r, cash)\n",
    "    return DF"
   ]
  },
  {
   "cell_type": "code",
   "execution_count": 18,
   "id": "c50ec53d",
   "metadata": {},
   "outputs": [
    {
     "data": {
      "text/html": [
       "<div>\n",
       "<style scoped>\n",
       "    .dataframe tbody tr th:only-of-type {\n",
       "        vertical-align: middle;\n",
       "    }\n",
       "\n",
       "    .dataframe tbody tr th {\n",
       "        vertical-align: top;\n",
       "    }\n",
       "\n",
       "    .dataframe thead th {\n",
       "        text-align: right;\n",
       "    }\n",
       "</style>\n",
       "<table border=\"1\" class=\"dataframe\">\n",
       "  <thead>\n",
       "    <tr style=\"text-align: right;\">\n",
       "      <th></th>\n",
       "      <th>Call</th>\n",
       "      <th>Put</th>\n",
       "    </tr>\n",
       "  </thead>\n",
       "  <tbody>\n",
       "    <tr>\n",
       "      <th>Van</th>\n",
       "      <td>14.895185</td>\n",
       "      <td>3.394473</td>\n",
       "    </tr>\n",
       "    <tr>\n",
       "      <th>DCN</th>\n",
       "      <td>67.596035</td>\n",
       "      <td>27.526908</td>\n",
       "    </tr>\n",
       "    <tr>\n",
       "      <th>DAN</th>\n",
       "      <td>243.595102</td>\n",
       "      <td>89.738231</td>\n",
       "    </tr>\n",
       "  </tbody>\n",
       "</table>\n",
       "</div>"
      ],
      "text/plain": [
       "           Call        Put\n",
       "Van   14.895185   3.394473\n",
       "DCN   67.596035  27.526908\n",
       "DAN  243.595102  89.738231"
      ]
     },
     "execution_count": 18,
     "metadata": {},
     "output_type": "execute_result"
    }
   ],
   "source": [
    "(F, K, Sigma, T, r, cash, beta) =\\\n",
    "(100, 105, 0.2, 1, 0.05, 100, 0.3)\n",
    "Displaced_diffusion(F, K, Sigma, T, r, cash, beta)"
   ]
  },
  {
   "cell_type": "code",
   "execution_count": 20,
   "id": "b36c696e",
   "metadata": {},
   "outputs": [
    {
     "data": {
      "text/plain": [
       "(          Call        Put\n",
       " Van   8.021352   7.900442\n",
       " DCN  44.001411  51.121532\n",
       " DAN  54.222833  45.777167,\n",
       "      Call        Put\n",
       " Van   0.0   4.756147\n",
       " DCN   0.0  95.122942\n",
       " DAN   0.0  95.122942,\n",
       "           Call        Put\n",
       " Van  11.973201   5.314595\n",
       " DCN  55.943003  39.179939\n",
       " DAN  70.713354  35.824342,\n",
       "            Call        Put\n",
       " Van   21.258349   1.629208\n",
       " DCN   79.595380  15.527562\n",
       " DAN  423.215018  76.784982)"
      ]
     },
     "execution_count": 20,
     "metadata": {},
     "output_type": "execute_result"
    }
   ],
   "source": [
    "(\n",
    "Black_Scholes(S=100, K=105, sigma=0.2, T=1, r=0.05, cash = 100),\n",
    "Bachelier(S=100, K=105, sigma=0.2, T=1, r=0.05, cash = 100),\n",
    "Black76(F=112, K=105, sigma=0.2, T=1, r=0.05, cash=100),\n",
    "Displaced_diffusion(F=100, K=105, sigma=0.2, T=1, r=0.05, cash=100, beta=0.2)\n",
    ")"
   ]
  },
  {
   "cell_type": "markdown",
   "id": "02349275",
   "metadata": {},
   "source": [
    "># Part I Combined function"
   ]
  },
  {
   "cell_type": "code",
   "execution_count": 21,
   "id": "2322ac30",
   "metadata": {},
   "outputs": [],
   "source": [
    "def Option_value(S, K, sigma, T, r, func, cash=100, beta=0.7):\n",
    "    \"\"\"\n",
    "    Calculate the Black-Scholes option price for a European call or put.\n",
    "\n",
    "    Parameters in list_val in sequence of :\n",
    "    [S, K, T, r, sigma, cash, d]\n",
    "\n",
    "    - S(F): \n",
    "        S-> Current stock price in Black_Scholes and Bachelier model\n",
    "        OR\n",
    "        F-> Future price in Black 76 model and displaced-diffusion\n",
    "    - K: Strike price\n",
    "    - T: Time to maturity (in years)\n",
    "    - r: Risk-free interest rate (annualized)\n",
    "    - sigma: Volatility (annualized)\n",
    "    - cash: for Digital Cash-Or-Nothing option\n",
    "    - beta: Displacement scale of the underlying asset price.\n",
    "        for Displaced-diffusion model only\n",
    "    \n",
    "    - func: choice of models as below\n",
    "        - Black_Scholes\n",
    "        - Bachelier\n",
    "        - Black76\n",
    "        - Displaced_diffusion\n",
    "    \n",
    "    Returns:\n",
    "    - Option price as DataFrame\n",
    "    \"\"\"    \n",
    "    if func == Displaced_diffusion:\n",
    "        result = func(S, K, sigma, T, r, cash, beta)\n",
    "    else:\n",
    "        result = func(S, K, sigma, T, r, cash)\n",
    "    return result"
   ]
  },
  {
   "cell_type": "code",
   "execution_count": 22,
   "id": "b684851b",
   "metadata": {},
   "outputs": [
    {
     "data": {
      "text/html": [
       "<div>\n",
       "<style scoped>\n",
       "    .dataframe tbody tr th:only-of-type {\n",
       "        vertical-align: middle;\n",
       "    }\n",
       "\n",
       "    .dataframe tbody tr th {\n",
       "        vertical-align: top;\n",
       "    }\n",
       "\n",
       "    .dataframe thead th {\n",
       "        text-align: right;\n",
       "    }\n",
       "</style>\n",
       "<table border=\"1\" class=\"dataframe\">\n",
       "  <thead>\n",
       "    <tr style=\"text-align: right;\">\n",
       "      <th></th>\n",
       "      <th>Call</th>\n",
       "      <th>Put</th>\n",
       "    </tr>\n",
       "  </thead>\n",
       "  <tbody>\n",
       "    <tr>\n",
       "      <th>Van</th>\n",
       "      <td>27.871084</td>\n",
       "      <td>0.674410</td>\n",
       "    </tr>\n",
       "    <tr>\n",
       "      <th>DCN</th>\n",
       "      <td>83.019837</td>\n",
       "      <td>7.463905</td>\n",
       "    </tr>\n",
       "    <tr>\n",
       "      <th>DAN</th>\n",
       "      <td>308.754866</td>\n",
       "      <td>24.578467</td>\n",
       "    </tr>\n",
       "  </tbody>\n",
       "</table>\n",
       "</div>"
      ],
      "text/plain": [
       "           Call        Put\n",
       "Van   27.871084   0.674410\n",
       "DCN   83.019837   7.463905\n",
       "DAN  308.754866  24.578467"
      ]
     },
     "execution_count": 22,
     "metadata": {},
     "output_type": "execute_result"
    }
   ],
   "source": [
    "## func = Black_Scholes / Bachelier / Black76 / Displaced_diffusion\n",
    "(S, K, sigma, T, r, cash, beta) = \\\n",
    "(100, 105, 0.2, 1, 0.1, 100, 0.3)\n",
    "Option_value(S, K, sigma, T, r, Displaced_diffusion, cash, beta)"
   ]
  },
  {
   "cell_type": "code",
   "execution_count": null,
   "id": "f1c49ab0",
   "metadata": {},
   "outputs": [],
   "source": []
  }
 ],
 "metadata": {
  "kernelspec": {
   "display_name": "Python 3 (ipykernel)",
   "language": "python",
   "name": "python3"
  },
  "language_info": {
   "codemirror_mode": {
    "name": "ipython",
    "version": 3
   },
   "file_extension": ".py",
   "mimetype": "text/x-python",
   "name": "python",
   "nbconvert_exporter": "python",
   "pygments_lexer": "ipython3",
   "version": "3.11.4"
  }
 },
 "nbformat": 4,
 "nbformat_minor": 5
}
