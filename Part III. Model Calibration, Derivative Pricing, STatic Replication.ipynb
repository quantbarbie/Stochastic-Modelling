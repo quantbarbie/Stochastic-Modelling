{
 "cells": [
  {
   "cell_type": "code",
   "execution_count": 1,
   "id": "3167f709",
   "metadata": {},
   "outputs": [],
   "source": [
    "# importing labraries\n",
    "import numpy as np\n",
    "import datetime as dt\n",
    "import pandas as pd\n",
    "import numpy as np\n",
    "import matplotlib.pyplot as plt\n",
    "import seaborn as sns\n",
    "import math\n",
    "from scipy.optimize import brentq, curve_fit, least_squares\n",
    "from scipy.stats import norm\n",
    "import warnings\n",
    "\n",
    "# Ignore all warnings\n",
    "warnings.filterwarnings(\"ignore\")"
   ]
  },
  {
   "cell_type": "markdown",
   "id": "65d2f4ce",
   "metadata": {},
   "source": [
    "> # PART III"
   ]
  },
  {
   "cell_type": "code",
   "execution_count": 2,
   "id": "13c07727",
   "metadata": {},
   "outputs": [],
   "source": [
    "from scipy.integrate import quad"
   ]
  },
  {
   "cell_type": "markdown",
   "id": "4c47bbe2",
   "metadata": {},
   "source": [
    "## Import excel data and import PART 2 SABR calibration results"
   ]
  },
  {
   "cell_type": "code",
   "execution_count": 3,
   "id": "f3a8daac",
   "metadata": {
    "scrolled": false
   },
   "outputs": [],
   "source": [
    "# import excel data\n",
    "discount = pd.read_csv('zero_rates_20201201.csv')\n",
    "spx_df = pd.read_csv('SPX_options.csv')\n",
    "spy_df = pd.read_csv('SPY_options.csv')\n",
    "S0_spx = 3662.45\n",
    "S0_spy = 366.02\n",
    "# import part 2 SABR calibration results\n",
    "sabr_spx = pd.read_csv('sabr_spx.csv')\n",
    "sabr_spy = pd.read_csv('sabr_spy.csv')"
   ]
  },
  {
   "cell_type": "code",
   "execution_count": 4,
   "id": "49ba0931",
   "metadata": {
    "scrolled": true
   },
   "outputs": [
    {
     "data": {
      "text/html": [
       "<div>\n",
       "<style scoped>\n",
       "    .dataframe tbody tr th:only-of-type {\n",
       "        vertical-align: middle;\n",
       "    }\n",
       "\n",
       "    .dataframe tbody tr th {\n",
       "        vertical-align: top;\n",
       "    }\n",
       "\n",
       "    .dataframe thead th {\n",
       "        text-align: right;\n",
       "    }\n",
       "</style>\n",
       "<table border=\"1\" class=\"dataframe\">\n",
       "  <thead>\n",
       "    <tr style=\"text-align: right;\">\n",
       "      <th></th>\n",
       "      <th>SPX T=45</th>\n",
       "      <th>SPY T=45</th>\n",
       "    </tr>\n",
       "  </thead>\n",
       "  <tbody>\n",
       "    <tr>\n",
       "      <th>𝛼</th>\n",
       "      <td>1.805269</td>\n",
       "      <td>0.908142</td>\n",
       "    </tr>\n",
       "    <tr>\n",
       "      <th>𝛽</th>\n",
       "      <td>0.700000</td>\n",
       "      <td>0.700000</td>\n",
       "    </tr>\n",
       "    <tr>\n",
       "      <th>𝜌</th>\n",
       "      <td>-0.390537</td>\n",
       "      <td>-0.488776</td>\n",
       "    </tr>\n",
       "    <tr>\n",
       "      <th>𝜈</th>\n",
       "      <td>2.800936</td>\n",
       "      <td>2.728522</td>\n",
       "    </tr>\n",
       "  </tbody>\n",
       "</table>\n",
       "</div>"
      ],
      "text/plain": [
       "   SPX T=45  SPY T=45\n",
       "𝛼  1.805269  0.908142\n",
       "𝛽  0.700000  0.700000\n",
       "𝜌 -0.390537 -0.488776\n",
       "𝜈  2.800936  2.728522"
      ]
     },
     "execution_count": 4,
     "metadata": {},
     "output_type": "execute_result"
    }
   ],
   "source": [
    "sabr = pd.DataFrame({'SPX T=45': sabr_spx.iloc[1, 1:].values, \n",
    "                    'SPY T=45': sabr_spy.iloc[1, 1:].values})\n",
    "sabr.index = ['𝛼', '𝛽', '𝜌', '𝜈']\n",
    "sabr"
   ]
  },
  {
   "cell_type": "markdown",
   "id": "10543692",
   "metadata": {},
   "source": [
    "## Option Pricing models (T = 45)\n",
    "1. BlackSholes\n",
    "2. Bachelier\n",
    "3. SABR"
   ]
  },
  {
   "cell_type": "code",
   "execution_count": 5,
   "id": "4bf844c2",
   "metadata": {},
   "outputs": [],
   "source": [
    "# define Black Scholes Lognormal pricing functions\n",
    "def Black_Scholes(S, K, r, sigma, T, opt):\n",
    "    d1 = (math.log(S / K) + (r + (sigma ** 2) / 2) * T) / (sigma * math.sqrt(T))\n",
    "    d2 = d1 - sigma * math.sqrt(T)\n",
    "    if opt == 'C':\n",
    "        return (S * norm.cdf(d1) - K * math.exp(-r * T) * norm.cdf(d2))\n",
    "    if opt == 'P':\n",
    "        return (-S * norm.cdf(-d1) + K * math.exp(-r * T) * norm.cdf(-d2))\n",
    "\n",
    "# Bachelier Normal pricing functions\n",
    "def Bachelier(S, K, r, sigma, T, opt):\n",
    "    d = (K - S) / (sigma * np.sqrt(T)) # why must times S to make things right? \n",
    "    if opt == 'C':\n",
    "        return math.exp(-r * T) *\\\n",
    "        ((S - K) * norm.cdf(-d) + sigma * math.sqrt(T) * norm.pdf(-d))\n",
    "    if opt == 'P':\n",
    "        return math.exp(-r * T) *\\\n",
    "        ((K - S) * norm.cdf(d) + sigma * math.sqrt(T) * norm.pdf(d))\n",
    "\n",
    "def impliedVolatility(S, K, r, price, T, opt, func):\n",
    "    try:\n",
    "        impliedVol = brentq(lambda x: price -\n",
    "                            func(S, K, r, x, T, opt),\n",
    "                            1e-6, 12000)\n",
    "    except Exception:\n",
    "        impliedVol = np.nan\n",
    "\n",
    "    return impliedVol\n",
    "\n",
    "def SABR(F, K, T, alpha, beta, rho, nu):\n",
    "    X = K\n",
    "    # if K is at-the-money-forward\n",
    "    if abs(F - K) < 1e-12:\n",
    "        numer1 = (((1 - beta)**2)/24)*alpha*alpha/(F**(2 - 2*beta))\n",
    "        numer2 = 0.25*rho*beta*nu*alpha/(F**(1 - beta))\n",
    "        numer3 = ((2 - 3*rho*rho)/24)*nu*nu\n",
    "        VolAtm = alpha*(1 + (numer1 + numer2 + numer3)*T)/(F**(1-beta))\n",
    "        sabrsigma = VolAtm\n",
    "    else:\n",
    "        z = (nu/alpha)*((F*X)**(0.5*(1-beta)))*np.log(F/X)\n",
    "        zhi = np.log((((1 - 2*rho*z + z*z)**0.5) + z - rho)/(1 - rho))\n",
    "        numer1 = (((1 - beta)**2)/24)*((alpha*alpha)/((F*X)**(1 - beta)))\n",
    "        numer2 = 0.25*rho*beta*nu*alpha/((F*X)**((1 - beta)/2))\n",
    "        numer3 = ((2 - 3*rho*rho)/24)*nu*nu\n",
    "        numer = alpha*(1 + (numer1 + numer2 + numer3)*T)*z\n",
    "        denom1 = ((1 - beta)**2/24)*(np.log(F/X))**2\n",
    "        denom2 = (((1 - beta)**4)/1920)*((np.log(F/X))**4)\n",
    "        denom = ((F*X)**((1 - beta)/2))*(1 + denom1 + denom2)*zhi\n",
    "        sabrsigma = numer/denom\n",
    "\n",
    "    return sabrsigma\n",
    "\n",
    "def integrand_test(S, K, r, sigma, T, func):\n",
    "    F = S * np.exp(r*T)    \n",
    "    if K > F:\n",
    "        price = func(S, K, r, sigma, T, 'C') / K**2\n",
    "    else:\n",
    "        price = func(S, K, r, sigma, T, 'P') / K**2\n",
    "    return price\n",
    "\n"
   ]
  },
  {
   "cell_type": "markdown",
   "id": "acf317c3",
   "metadata": {},
   "source": [
    "Here we try to estimate on discount factors for future use.\n",
    "\n",
    "Note that the interest rates provided in the 'rate' column are in % unit. So for instance, to discount a cashflow paid 49 days from today, the discount factor is\n",
    "\n",
    "\\begin{equation*}\n",
    "\\begin{split}\n",
    "D(0,T) = e^{-0.00216480 \\times \\frac{49}{365}}\n",
    "\\end{split}\n",
    "\\end{equation*}\n",
    "\n",
    "\n",
    "If the payment date is not provided in the dataframe, you can perform linear interpolation for the corresponding zero rate."
   ]
  },
  {
   "cell_type": "code",
   "execution_count": 6,
   "id": "8564cc9c",
   "metadata": {},
   "outputs": [],
   "source": [
    "def get_smile_df(df, discount_df, S0, func):\n",
    "    \n",
    "    df_cal = df.copy()\n",
    "    df_cal['T'] =\\\n",
    "            df_cal['exdate']\\\n",
    "            .apply(lambda x: \\\n",
    "                   (pd.Timestamp(str(x))\n",
    "                   .date() - dt.date(2020, 12, 1))\n",
    "                   .days)\n",
    "\n",
    "    df_cal['r'] =\\\n",
    "            df_cal['T']\\\n",
    "            .apply(lambda x: \\\n",
    "                   np.interp(x, discount_df['days'], discount_df['rate'])/100)\n",
    "\n",
    "    df_cal['F'] =\\\n",
    "            S0 * np.exp(df_cal['r'] * df_cal['T']/365)\n",
    "    \n",
    "    # filter out in-the money options and organise dataframes\n",
    "    # call \n",
    "    call = df_cal[df_cal['cp_flag']=='C']\n",
    "    call['mid_price'] = (call['best_bid'] + call['best_offer']) / 2    \n",
    "    call = call[call['strike_price']/1000 >= S0]\n",
    "    \n",
    "    # put    \n",
    "    put = df_cal[df_cal['cp_flag']=='P']\n",
    "    put['mid_price'] = (put['best_bid'] + put['best_offer']) / 2\n",
    "    put = put[put['strike_price']/1000 <= S0]   \n",
    "    \n",
    "    df_smile = pd.concat([put, call])  \n",
    "    \n",
    "    df_smile['vol_m'] =\\\n",
    "        df_smile.apply(lambda x:\\\n",
    "                     impliedVolatility(S0,\n",
    "                                       x['strike_price']/1000,\n",
    "                                       x['r'],\n",
    "                                       x['mid_price'],\n",
    "                                       x['T']/365,\n",
    "                                       x['cp_flag'],\n",
    "                                       func),\n",
    "                          axis=1)\n",
    "    # df_smile will contain na values, so will smiles\n",
    "    smiles = []\n",
    "    for F0 in df_smile['F'].unique():\n",
    "        smiles += [df_smile[df_smile['F'] == F0]]      \n",
    "    \n",
    "    return smiles"
   ]
  },
  {
   "cell_type": "code",
   "execution_count": 7,
   "id": "47e345ba",
   "metadata": {
    "scrolled": false
   },
   "outputs": [],
   "source": [
    "spx_smile = get_smile_df(spx_df, discount, S0_spx, Black_Scholes)\n",
    "spy_smile = get_smile_df(spy_df, discount, S0_spy, Black_Scholes)"
   ]
  },
  {
   "cell_type": "code",
   "execution_count": 8,
   "id": "3da89158",
   "metadata": {
    "scrolled": false
   },
   "outputs": [
    {
     "data": {
      "text/html": [
       "<div>\n",
       "<style scoped>\n",
       "    .dataframe tbody tr th:only-of-type {\n",
       "        vertical-align: middle;\n",
       "    }\n",
       "\n",
       "    .dataframe tbody tr th {\n",
       "        vertical-align: top;\n",
       "    }\n",
       "\n",
       "    .dataframe thead th {\n",
       "        text-align: right;\n",
       "    }\n",
       "</style>\n",
       "<table border=\"1\" class=\"dataframe\">\n",
       "  <thead>\n",
       "    <tr style=\"text-align: right;\">\n",
       "      <th></th>\n",
       "      <th>date</th>\n",
       "      <th>exdate</th>\n",
       "      <th>cp_flag</th>\n",
       "      <th>strike_price</th>\n",
       "      <th>best_bid</th>\n",
       "      <th>best_offer</th>\n",
       "      <th>exercise_style</th>\n",
       "      <th>T</th>\n",
       "      <th>r</th>\n",
       "      <th>F</th>\n",
       "      <th>mid_price</th>\n",
       "      <th>vol_m</th>\n",
       "    </tr>\n",
       "  </thead>\n",
       "  <tbody>\n",
       "    <tr>\n",
       "      <th>1191</th>\n",
       "      <td>20201201</td>\n",
       "      <td>20210115</td>\n",
       "      <td>P</td>\n",
       "      <td>100000</td>\n",
       "      <td>0.0</td>\n",
       "      <td>0.10</td>\n",
       "      <td>E</td>\n",
       "      <td>45</td>\n",
       "      <td>0.002051</td>\n",
       "      <td>3663.376249</td>\n",
       "      <td>0.050</td>\n",
       "      <td>3.020479</td>\n",
       "    </tr>\n",
       "    <tr>\n",
       "      <th>1192</th>\n",
       "      <td>20201201</td>\n",
       "      <td>20210115</td>\n",
       "      <td>P</td>\n",
       "      <td>200000</td>\n",
       "      <td>0.0</td>\n",
       "      <td>0.10</td>\n",
       "      <td>E</td>\n",
       "      <td>45</td>\n",
       "      <td>0.002051</td>\n",
       "      <td>3663.376249</td>\n",
       "      <td>0.050</td>\n",
       "      <td>2.408988</td>\n",
       "    </tr>\n",
       "    <tr>\n",
       "      <th>1193</th>\n",
       "      <td>20201201</td>\n",
       "      <td>20210115</td>\n",
       "      <td>P</td>\n",
       "      <td>300000</td>\n",
       "      <td>0.0</td>\n",
       "      <td>0.10</td>\n",
       "      <td>E</td>\n",
       "      <td>45</td>\n",
       "      <td>0.002051</td>\n",
       "      <td>3663.376249</td>\n",
       "      <td>0.050</td>\n",
       "      <td>2.062602</td>\n",
       "    </tr>\n",
       "    <tr>\n",
       "      <th>1194</th>\n",
       "      <td>20201201</td>\n",
       "      <td>20210115</td>\n",
       "      <td>P</td>\n",
       "      <td>400000</td>\n",
       "      <td>0.0</td>\n",
       "      <td>0.10</td>\n",
       "      <td>E</td>\n",
       "      <td>45</td>\n",
       "      <td>0.002051</td>\n",
       "      <td>3663.376249</td>\n",
       "      <td>0.050</td>\n",
       "      <td>1.821174</td>\n",
       "    </tr>\n",
       "    <tr>\n",
       "      <th>1195</th>\n",
       "      <td>20201201</td>\n",
       "      <td>20210115</td>\n",
       "      <td>P</td>\n",
       "      <td>500000</td>\n",
       "      <td>0.0</td>\n",
       "      <td>0.10</td>\n",
       "      <td>E</td>\n",
       "      <td>45</td>\n",
       "      <td>0.002051</td>\n",
       "      <td>3663.376249</td>\n",
       "      <td>0.050</td>\n",
       "      <td>1.636102</td>\n",
       "    </tr>\n",
       "    <tr>\n",
       "      <th>...</th>\n",
       "      <td>...</td>\n",
       "      <td>...</td>\n",
       "      <td>...</td>\n",
       "      <td>...</td>\n",
       "      <td>...</td>\n",
       "      <td>...</td>\n",
       "      <td>...</td>\n",
       "      <td>...</td>\n",
       "      <td>...</td>\n",
       "      <td>...</td>\n",
       "      <td>...</td>\n",
       "      <td>...</td>\n",
       "    </tr>\n",
       "    <tr>\n",
       "      <th>1186</th>\n",
       "      <td>20201201</td>\n",
       "      <td>20210115</td>\n",
       "      <td>C</td>\n",
       "      <td>5000000</td>\n",
       "      <td>0.0</td>\n",
       "      <td>0.15</td>\n",
       "      <td>E</td>\n",
       "      <td>45</td>\n",
       "      <td>0.002051</td>\n",
       "      <td>3663.376249</td>\n",
       "      <td>0.075</td>\n",
       "      <td>0.276282</td>\n",
       "    </tr>\n",
       "    <tr>\n",
       "      <th>1187</th>\n",
       "      <td>20201201</td>\n",
       "      <td>20210115</td>\n",
       "      <td>C</td>\n",
       "      <td>5100000</td>\n",
       "      <td>0.0</td>\n",
       "      <td>0.15</td>\n",
       "      <td>E</td>\n",
       "      <td>45</td>\n",
       "      <td>0.002051</td>\n",
       "      <td>3663.376249</td>\n",
       "      <td>0.075</td>\n",
       "      <td>0.292255</td>\n",
       "    </tr>\n",
       "    <tr>\n",
       "      <th>1188</th>\n",
       "      <td>20201201</td>\n",
       "      <td>20210115</td>\n",
       "      <td>C</td>\n",
       "      <td>5200000</td>\n",
       "      <td>0.0</td>\n",
       "      <td>0.15</td>\n",
       "      <td>E</td>\n",
       "      <td>45</td>\n",
       "      <td>0.002051</td>\n",
       "      <td>3663.376249</td>\n",
       "      <td>0.075</td>\n",
       "      <td>0.307836</td>\n",
       "    </tr>\n",
       "    <tr>\n",
       "      <th>1189</th>\n",
       "      <td>20201201</td>\n",
       "      <td>20210115</td>\n",
       "      <td>C</td>\n",
       "      <td>5300000</td>\n",
       "      <td>0.0</td>\n",
       "      <td>0.15</td>\n",
       "      <td>E</td>\n",
       "      <td>45</td>\n",
       "      <td>0.002051</td>\n",
       "      <td>3663.376249</td>\n",
       "      <td>0.075</td>\n",
       "      <td>0.323046</td>\n",
       "    </tr>\n",
       "    <tr>\n",
       "      <th>1190</th>\n",
       "      <td>20201201</td>\n",
       "      <td>20210115</td>\n",
       "      <td>C</td>\n",
       "      <td>5400000</td>\n",
       "      <td>0.0</td>\n",
       "      <td>0.15</td>\n",
       "      <td>E</td>\n",
       "      <td>45</td>\n",
       "      <td>0.002051</td>\n",
       "      <td>3663.376249</td>\n",
       "      <td>0.075</td>\n",
       "      <td>0.337903</td>\n",
       "    </tr>\n",
       "  </tbody>\n",
       "</table>\n",
       "<p>369 rows × 12 columns</p>\n",
       "</div>"
      ],
      "text/plain": [
       "          date    exdate cp_flag  strike_price  best_bid  best_offer  \\\n",
       "1191  20201201  20210115       P        100000       0.0        0.10   \n",
       "1192  20201201  20210115       P        200000       0.0        0.10   \n",
       "1193  20201201  20210115       P        300000       0.0        0.10   \n",
       "1194  20201201  20210115       P        400000       0.0        0.10   \n",
       "1195  20201201  20210115       P        500000       0.0        0.10   \n",
       "...        ...       ...     ...           ...       ...         ...   \n",
       "1186  20201201  20210115       C       5000000       0.0        0.15   \n",
       "1187  20201201  20210115       C       5100000       0.0        0.15   \n",
       "1188  20201201  20210115       C       5200000       0.0        0.15   \n",
       "1189  20201201  20210115       C       5300000       0.0        0.15   \n",
       "1190  20201201  20210115       C       5400000       0.0        0.15   \n",
       "\n",
       "     exercise_style   T         r            F  mid_price     vol_m  \n",
       "1191              E  45  0.002051  3663.376249      0.050  3.020479  \n",
       "1192              E  45  0.002051  3663.376249      0.050  2.408988  \n",
       "1193              E  45  0.002051  3663.376249      0.050  2.062602  \n",
       "1194              E  45  0.002051  3663.376249      0.050  1.821174  \n",
       "1195              E  45  0.002051  3663.376249      0.050  1.636102  \n",
       "...             ...  ..       ...          ...        ...       ...  \n",
       "1186              E  45  0.002051  3663.376249      0.075  0.276282  \n",
       "1187              E  45  0.002051  3663.376249      0.075  0.292255  \n",
       "1188              E  45  0.002051  3663.376249      0.075  0.307836  \n",
       "1189              E  45  0.002051  3663.376249      0.075  0.323046  \n",
       "1190              E  45  0.002051  3663.376249      0.075  0.337903  \n",
       "\n",
       "[369 rows x 12 columns]"
      ]
     },
     "execution_count": 8,
     "metadata": {},
     "output_type": "execute_result"
    }
   ],
   "source": [
    "spx_smile[1]"
   ]
  },
  {
   "cell_type": "markdown",
   "id": "41496657",
   "metadata": {},
   "source": [
    "## ATM Volatility\n",
    "Here we implement the solver to find the at-the-money implied volatility"
   ]
  },
  {
   "cell_type": "code",
   "execution_count": 9,
   "id": "6891d4e3",
   "metadata": {},
   "outputs": [],
   "source": [
    "def ATM_Vol_part3(df, S0):\n",
    "    ATM_slice = df.copy()\n",
    "    # Calculate the absolute differences between the target value and each row\n",
    "    ATM_slice['Difference'] = abs(ATM_slice['strike_price']/1000 - S0)\n",
    "\n",
    "    # Sort the DataFrame by the 'Difference' column\n",
    "    ATM_slice = ATM_slice.sort_values(by='Difference').head(5)\n",
    "#     print(ATM_slice)\n",
    "\n",
    "    # Get the ONLY ONE closest row    \n",
    "    K = ATM_slice.iloc[0]['strike_price']/1000\n",
    "    r = ATM_slice.iloc[0]['r']\n",
    "    price = ATM_slice.iloc[0]['mid_price']\n",
    "    T = ATM_slice.iloc[0]['T']/365\n",
    "    opt = ATM_slice.iloc[0]['cp_flag']\n",
    "    sigma_N = impliedVolatility(S0, K, r, price, T, opt, Bachelier)    \n",
    "    sigma_LN = impliedVolatility(S0, K, r, price, T, opt, Black_Scholes)\n",
    "    return [sigma_LN, sigma_N]"
   ]
  },
  {
   "cell_type": "code",
   "execution_count": 10,
   "id": "6fc8040c",
   "metadata": {
    "scrolled": true
   },
   "outputs": [
    {
     "data": {
      "text/html": [
       "<div>\n",
       "<style scoped>\n",
       "    .dataframe tbody tr th:only-of-type {\n",
       "        vertical-align: middle;\n",
       "    }\n",
       "\n",
       "    .dataframe tbody tr th {\n",
       "        vertical-align: top;\n",
       "    }\n",
       "\n",
       "    .dataframe thead th {\n",
       "        text-align: right;\n",
       "    }\n",
       "</style>\n",
       "<table border=\"1\" class=\"dataframe\">\n",
       "  <thead>\n",
       "    <tr style=\"text-align: right;\">\n",
       "      <th></th>\n",
       "      <th>SPX T=45</th>\n",
       "      <th>SPY T=45</th>\n",
       "    </tr>\n",
       "  </thead>\n",
       "  <tbody>\n",
       "    <tr>\n",
       "      <th>sigma_BS</th>\n",
       "      <td>0.188860</td>\n",
       "      <td>0.197767</td>\n",
       "    </tr>\n",
       "    <tr>\n",
       "      <th>sigma_Bach</th>\n",
       "      <td>688.146018</td>\n",
       "      <td>72.049480</td>\n",
       "    </tr>\n",
       "  </tbody>\n",
       "</table>\n",
       "</div>"
      ],
      "text/plain": [
       "              SPX T=45   SPY T=45\n",
       "sigma_BS      0.188860   0.197767\n",
       "sigma_Bach  688.146018  72.049480"
      ]
     },
     "execution_count": 10,
     "metadata": {},
     "output_type": "execute_result"
    }
   ],
   "source": [
    "sigma_atm = pd.DataFrame({'SPX T=45': ATM_Vol_part3(spx_smile[1], S0_spx),\n",
    "                         'SPY T=45': ATM_Vol_part3(spy_smile[1], S0_spy)})\n",
    "sigma_atm.index = ['sigma_BS', 'sigma_Bach']\n",
    "sigma_atm"
   ]
  },
  {
   "cell_type": "code",
   "execution_count": 11,
   "id": "ba28242c",
   "metadata": {},
   "outputs": [],
   "source": [
    "sigma_atm.to_csv('sigma_atm.csv')"
   ]
  },
  {
   "cell_type": "markdown",
   "id": "022db3c3",
   "metadata": {},
   "source": [
    "## Integrated Variance by different models\n",
    "1. BlackSholes\n",
    "2. Bachelier\n",
    "3. SABR"
   ]
  },
  {
   "cell_type": "markdown",
   "id": "c66cd20c",
   "metadata": {},
   "source": [
    "## Testing on intergrand() function by way of integrated variance"
   ]
  },
  {
   "cell_type": "markdown",
   "id": "478ed5ce",
   "metadata": {},
   "source": [
    "σ is implied volitality calculated by Black-Scholes model\n",
    "for testing our integrated variance function"
   ]
  },
  {
   "cell_type": "code",
   "execution_count": 12,
   "id": "a58218bc",
   "metadata": {},
   "outputs": [
    {
     "data": {
      "text/plain": [
       "0.18886028486850842"
      ]
     },
     "execution_count": 12,
     "metadata": {},
     "output_type": "execute_result"
    }
   ],
   "source": [
    "sigma = sigma_atm.loc['sigma_BS', 'SPX T=45']\n",
    "sigma"
   ]
  },
  {
   "cell_type": "code",
   "execution_count": 13,
   "id": "c5ea1205",
   "metadata": {},
   "outputs": [
    {
     "name": "stdout",
     "output_type": "stream",
     "text": [
      "The expected integrated variance is: 0.004397448\n",
      "Model-free integrated variance model output tally with inputs\n"
     ]
    }
   ],
   "source": [
    "S = S0_spx\n",
    "r = spx_smile[1]['r'].unique()[0]\n",
    "T = spx_smile[1]['T'].unique()[0]/365\n",
    "sigma = sigma_atm.loc['sigma_BS', 'SPX T=45']\n",
    "inf = 500000\n",
    "I = quad(lambda x: integrand_test(S, x, r, sigma, T, Black_Scholes), 0.0, inf)\n",
    "E_var = 2*np.exp(r*T)*(I[0])\n",
    "print('The expected integrated variance is: %.9f' % E_var)\n",
    "if np.sqrt(E_var/T)-sigma < 1e-6:\n",
    "    print('Model-free integrated variance model output tally with inputs')"
   ]
  },
  {
   "cell_type": "code",
   "execution_count": 14,
   "id": "80370513",
   "metadata": {},
   "outputs": [],
   "source": [
    "def h(K):\n",
    "    if abs(K) < 1e-12:\n",
    "        K = 1e-12\n",
    "    return K**(1/3) + 1.5 * np.log(K) + 10\n",
    "def h_dif1(K):\n",
    "    if abs(K) < 1e-12:\n",
    "        K = 1e-12\n",
    "    # For testing only\n",
    "    return 1/3 * K**(-2/3) + 3 / 2 *K**(-1)\n",
    "def h_dif2(K):\n",
    "    if abs(K) < 1e-12:\n",
    "        K = 1e-12\n",
    "    return -2/9 * K**(-5/3) - 3/2 * K**(-2)"
   ]
  },
  {
   "cell_type": "code",
   "execution_count": 15,
   "id": "6bd73278",
   "metadata": {},
   "outputs": [
    {
     "name": "stdout",
     "output_type": "stream",
     "text": [
      "First differencing function checked\n",
      "Second differencing function checked\n"
     ]
    }
   ],
   "source": [
    "I1 = quad(lambda x: h_dif1(x), 0.0, 50000)\n",
    "if I1[0] - (h(inf)-h(0)) < 1e-6:\n",
    "    print('First differencing function checked')\n",
    "I2 = quad(lambda x: h_dif2(x), 100, 50000)\n",
    "if I2[0] - (h_dif1(inf)-h_dif1(100)) < 1e-3:\n",
    "    print('Second differencing function checked')   "
   ]
  },
  {
   "cell_type": "markdown",
   "id": "32929ae2",
   "metadata": {},
   "source": [
    "## Black Scholes Model Derivative Pricing"
   ]
  },
  {
   "cell_type": "code",
   "execution_count": 16,
   "id": "11d18834",
   "metadata": {},
   "outputs": [],
   "source": [
    "def integrand(S, K, r, sigma, T, func):\n",
    "    F = S * np.exp(r*T) \n",
    "    if K > F:\n",
    "        price = func(S, K, r, sigma, T, 'C')\n",
    "    else:\n",
    "        price = func(S, K, r, sigma, T, 'P')\n",
    "    return price * h_dif2(K)"
   ]
  },
  {
   "cell_type": "code",
   "execution_count": 38,
   "id": "51a6a98c",
   "metadata": {},
   "outputs": [],
   "source": [
    "def Static_Replication(df, S, sigma, func):\n",
    "    r = df['r'].unique()[0]\n",
    "    T = df['T'].unique()[0]/365\n",
    "\n",
    "    F = S * np.exp(r*T) \n",
    "    inf = 50000    \n",
    "    I = quad(lambda x: integrand(S, x, r, sigma, T, func), 1e-12, 50000)\n",
    "    \n",
    "    return I[0] + h(F)*np.exp(-r*T)\n",
    "    "
   ]
  },
  {
   "cell_type": "code",
   "execution_count": 39,
   "id": "b1f5f76e",
   "metadata": {},
   "outputs": [
    {
     "data": {
      "text/html": [
       "<div>\n",
       "<style scoped>\n",
       "    .dataframe tbody tr th:only-of-type {\n",
       "        vertical-align: middle;\n",
       "    }\n",
       "\n",
       "    .dataframe tbody tr th {\n",
       "        vertical-align: top;\n",
       "    }\n",
       "\n",
       "    .dataframe thead th {\n",
       "        text-align: right;\n",
       "    }\n",
       "</style>\n",
       "<table border=\"1\" class=\"dataframe\">\n",
       "  <thead>\n",
       "    <tr style=\"text-align: right;\">\n",
       "      <th></th>\n",
       "      <th>SPX T=45</th>\n",
       "      <th>SPY T=45</th>\n",
       "    </tr>\n",
       "  </thead>\n",
       "  <tbody>\n",
       "    <tr>\n",
       "      <th>sigma_BS</th>\n",
       "      <td>0.188860</td>\n",
       "      <td>0.197767</td>\n",
       "    </tr>\n",
       "    <tr>\n",
       "      <th>sigma_Bach</th>\n",
       "      <td>688.146018</td>\n",
       "      <td>72.049480</td>\n",
       "    </tr>\n",
       "  </tbody>\n",
       "</table>\n",
       "</div>"
      ],
      "text/plain": [
       "              SPX T=45   SPY T=45\n",
       "sigma_BS      0.188860   0.197767\n",
       "sigma_Bach  688.146018  72.049480"
      ]
     },
     "execution_count": 39,
     "metadata": {},
     "output_type": "execute_result"
    }
   ],
   "source": [
    "sigma_atm"
   ]
  },
  {
   "cell_type": "code",
   "execution_count": 40,
   "id": "0a21d221",
   "metadata": {},
   "outputs": [
    {
     "data": {
      "text/plain": [
       "37.70444937954976"
      ]
     },
     "execution_count": 40,
     "metadata": {},
     "output_type": "execute_result"
    }
   ],
   "source": [
    "Static_spx_BS = Static_Replication(spx_smile[1], \n",
    "                                   S0_spx, \n",
    "                                   sigma_atm.loc['sigma_BS', 'SPX T=45'], \n",
    "                                   Black_Scholes)\n",
    "Static_spx_BS"
   ]
  },
  {
   "cell_type": "code",
   "execution_count": 41,
   "id": "6668a96c",
   "metadata": {},
   "outputs": [
    {
     "data": {
      "text/plain": [
       "25.994212271358585"
      ]
     },
     "execution_count": 41,
     "metadata": {},
     "output_type": "execute_result"
    }
   ],
   "source": [
    "Static_spy_BS = Static_Replication(spy_smile[1], \n",
    "                                   S0_spy, \n",
    "                                   sigma_atm.loc['sigma_BS', 'SPY T=45'], \n",
    "                                   Black_Scholes)\n",
    "Static_spy_BS"
   ]
  },
  {
   "cell_type": "markdown",
   "id": "a244f966",
   "metadata": {},
   "source": [
    "## Bachelier Model Derivative Pricing"
   ]
  },
  {
   "cell_type": "code",
   "execution_count": 42,
   "id": "57206899",
   "metadata": {},
   "outputs": [
    {
     "data": {
      "text/plain": [
       "688.1460176672617"
      ]
     },
     "execution_count": 42,
     "metadata": {},
     "output_type": "execute_result"
    }
   ],
   "source": [
    "sigma = sigma_atm.loc['sigma_Bach', 'SPX T=45']\n",
    "sigma"
   ]
  },
  {
   "cell_type": "code",
   "execution_count": 43,
   "id": "0fc67dc8",
   "metadata": {},
   "outputs": [
    {
     "data": {
      "text/plain": [
       "81.6567386969997"
      ]
     },
     "execution_count": 43,
     "metadata": {},
     "output_type": "execute_result"
    }
   ],
   "source": [
    "S = S0_spx\n",
    "r = spx_smile[1]['r'].unique()[0]\n",
    "T = spx_smile[1]['T'].unique()[0]/365\n",
    "sigma = sigma_atm.loc['sigma_Bach', 'SPX T=45']\n",
    "inf = 500000\n",
    "Bachelier(S0_spy, 335, r, sigma, T, 'P')"
   ]
  },
  {
   "cell_type": "code",
   "execution_count": 44,
   "id": "496a3aac",
   "metadata": {},
   "outputs": [
    {
     "data": {
      "text/plain": [
       "37.704500600027224"
      ]
     },
     "execution_count": 44,
     "metadata": {},
     "output_type": "execute_result"
    }
   ],
   "source": [
    "Static_spx_Bachelier = Static_Replication(spx_smile[1], \n",
    "                                          S0_spx, \n",
    "                                          sigma_atm.loc['sigma_Bach', 'SPX T=45'], \n",
    "                                          Bachelier)\n",
    "Static_spx_Bachelier"
   ]
  },
  {
   "cell_type": "code",
   "execution_count": 45,
   "id": "706a6218",
   "metadata": {},
   "outputs": [
    {
     "data": {
      "text/plain": [
       "25.994234152437546"
      ]
     },
     "execution_count": 45,
     "metadata": {},
     "output_type": "execute_result"
    }
   ],
   "source": [
    "Static_spy_Bachelier = Static_Replication(spy_smile[1], \n",
    "                                          S0_spy, \n",
    "                                          sigma_atm.loc['sigma_Bach', 'SPY T=45'], \n",
    "                                          Bachelier)\n",
    "Static_spy_Bachelier"
   ]
  },
  {
   "cell_type": "markdown",
   "id": "dbe68dc2",
   "metadata": {},
   "source": [
    "## SABR Model Derivative Pricing"
   ]
  },
  {
   "cell_type": "code",
   "execution_count": 46,
   "id": "3e34456d",
   "metadata": {},
   "outputs": [],
   "source": [
    "def integrand_sabr(S, K, r, T, alpha, beta, rho, nu):\n",
    "    F = S * np.exp(r*T)\n",
    "    sigma_sabr = SABR(F, K, T, alpha, beta, rho, nu)\n",
    "    if K > F:\n",
    "        price = Black_Scholes(S, K, r, sigma_sabr, T, 'C')\n",
    "    else:\n",
    "        price = Black_Scholes(S, K, r, sigma_sabr, T, 'P')\n",
    "    return price * h_dif2(K)\n"
   ]
  },
  {
   "cell_type": "code",
   "execution_count": 47,
   "id": "fa4a01af",
   "metadata": {},
   "outputs": [],
   "source": [
    "def Static_Replication_SABR(df, S, sabr_results):\n",
    "    r = df['r'].unique()[0]\n",
    "    T = df['T'].unique()[0]/365\n",
    "    F = S * np.exp(r*T) \n",
    "    alpha = sabr_results[0]\n",
    "    beta = sabr_results[1]\n",
    "    rho = sabr_results[2]\n",
    "    nu = sabr_results[3]\n",
    "    \n",
    "    inf = 50000    \n",
    "    I = quad(lambda x: integrand_sabr(S, x, r, T, \\\n",
    "                                      alpha, beta, rho, nu), 1, 50000)\n",
    "    \n",
    "    return I[0] + h(F)*np.exp(-r*T)"
   ]
  },
  {
   "cell_type": "code",
   "execution_count": 48,
   "id": "d69db36d",
   "metadata": {},
   "outputs": [
    {
     "data": {
      "text/html": [
       "<div>\n",
       "<style scoped>\n",
       "    .dataframe tbody tr th:only-of-type {\n",
       "        vertical-align: middle;\n",
       "    }\n",
       "\n",
       "    .dataframe tbody tr th {\n",
       "        vertical-align: top;\n",
       "    }\n",
       "\n",
       "    .dataframe thead th {\n",
       "        text-align: right;\n",
       "    }\n",
       "</style>\n",
       "<table border=\"1\" class=\"dataframe\">\n",
       "  <thead>\n",
       "    <tr style=\"text-align: right;\">\n",
       "      <th></th>\n",
       "      <th>SPX T=45</th>\n",
       "      <th>SPY T=45</th>\n",
       "    </tr>\n",
       "  </thead>\n",
       "  <tbody>\n",
       "    <tr>\n",
       "      <th>𝛼</th>\n",
       "      <td>1.805269</td>\n",
       "      <td>0.908142</td>\n",
       "    </tr>\n",
       "    <tr>\n",
       "      <th>𝛽</th>\n",
       "      <td>0.700000</td>\n",
       "      <td>0.700000</td>\n",
       "    </tr>\n",
       "    <tr>\n",
       "      <th>𝜌</th>\n",
       "      <td>-0.390537</td>\n",
       "      <td>-0.488776</td>\n",
       "    </tr>\n",
       "    <tr>\n",
       "      <th>𝜈</th>\n",
       "      <td>2.800936</td>\n",
       "      <td>2.728522</td>\n",
       "    </tr>\n",
       "  </tbody>\n",
       "</table>\n",
       "</div>"
      ],
      "text/plain": [
       "   SPX T=45  SPY T=45\n",
       "𝛼  1.805269  0.908142\n",
       "𝛽  0.700000  0.700000\n",
       "𝜌 -0.390537 -0.488776\n",
       "𝜈  2.800936  2.728522"
      ]
     },
     "execution_count": 48,
     "metadata": {},
     "output_type": "execute_result"
    }
   ],
   "source": [
    "sabr"
   ]
  },
  {
   "cell_type": "code",
   "execution_count": 49,
   "id": "705d1df4",
   "metadata": {},
   "outputs": [
    {
     "data": {
      "text/plain": [
       "𝛼    1.805269\n",
       "𝛽    0.700000\n",
       "𝜌   -0.390537\n",
       "𝜈    2.800936\n",
       "Name: SPX T=45, dtype: float64"
      ]
     },
     "execution_count": 49,
     "metadata": {},
     "output_type": "execute_result"
    }
   ],
   "source": [
    "sabr.iloc[:, 0]"
   ]
  },
  {
   "cell_type": "code",
   "execution_count": 50,
   "id": "bf73e5eb",
   "metadata": {},
   "outputs": [
    {
     "data": {
      "text/plain": [
       "37.70044771249642"
      ]
     },
     "execution_count": 50,
     "metadata": {},
     "output_type": "execute_result"
    }
   ],
   "source": [
    "Static_spx_SABR =\\\n",
    "    Static_Replication_SABR(spx_smile[1], S0_spx, sabr.iloc[:, 0])\n",
    "Static_spx_SABR"
   ]
  },
  {
   "cell_type": "code",
   "execution_count": 51,
   "id": "db1f6123",
   "metadata": {},
   "outputs": [
    {
     "data": {
      "text/plain": [
       "25.992677830470377"
      ]
     },
     "execution_count": 51,
     "metadata": {},
     "output_type": "execute_result"
    }
   ],
   "source": [
    "Static_spy_SABR =\\\n",
    "    Static_Replication_SABR(spy_smile[1], S0_spy, sabr.iloc[:, 1])\n",
    "Static_spy_SABR"
   ]
  },
  {
   "cell_type": "markdown",
   "id": "8ecb2d93",
   "metadata": {},
   "source": [
    "## Validating the results (Use SPX option data for T = 45 as examples)"
   ]
  },
  {
   "cell_type": "code",
   "execution_count": 56,
   "id": "f3b15806",
   "metadata": {},
   "outputs": [
    {
     "data": {
      "text/plain": [
       "37.723134748877065"
      ]
     },
     "execution_count": 56,
     "metadata": {},
     "output_type": "execute_result"
    }
   ],
   "source": [
    "h(S0_spx)"
   ]
  },
  {
   "cell_type": "markdown",
   "id": "e14a6fa8",
   "metadata": {},
   "source": [
    "Validating the above result on contract h(K) = K^(1/3) + 1.5 * lg(K) + 10:\n",
    "1. All the three models will give positive call prices C(K) and put prices P(K)\n",
    "2. h\"(K) is always negative for positive underlying asset prices.\n",
    "3. Price by Static Replication will then be smaller than h(S0)"
   ]
  },
  {
   "cell_type": "code",
   "execution_count": 57,
   "id": "3dc1b3ec",
   "metadata": {},
   "outputs": [],
   "source": [
    "Static_Replication_all = pd.DataFrame({'SPX T=45' : [Static_spx_BS, \n",
    "                                                     Static_spx_Bachelier, \n",
    "                                                     Static_spx_SABR],\n",
    "                                      'SPY T=45' : [Static_spy_BS, \n",
    "                                                    Static_spy_Bachelier, \n",
    "                                                    Static_spy_SABR]}).T\n",
    "Static_Replication_all.columns = ['Black-Scholes', 'Bachelier', 'SABR']\n",
    "Static_Replication_all.to_csv('Part3_pricing.csv')"
   ]
  },
  {
   "cell_type": "markdown",
   "id": "0288e26a",
   "metadata": {},
   "source": [
    "# Part III (Static Replication) Results"
   ]
  },
  {
   "cell_type": "code",
   "execution_count": 58,
   "id": "c924e2b7",
   "metadata": {},
   "outputs": [
    {
     "data": {
      "text/html": [
       "<div>\n",
       "<style scoped>\n",
       "    .dataframe tbody tr th:only-of-type {\n",
       "        vertical-align: middle;\n",
       "    }\n",
       "\n",
       "    .dataframe tbody tr th {\n",
       "        vertical-align: top;\n",
       "    }\n",
       "\n",
       "    .dataframe thead th {\n",
       "        text-align: right;\n",
       "    }\n",
       "</style>\n",
       "<table border=\"1\" class=\"dataframe\">\n",
       "  <thead>\n",
       "    <tr style=\"text-align: right;\">\n",
       "      <th></th>\n",
       "      <th>Black-Scholes</th>\n",
       "      <th>Bachelier</th>\n",
       "      <th>SABR</th>\n",
       "    </tr>\n",
       "  </thead>\n",
       "  <tbody>\n",
       "    <tr>\n",
       "      <th>SPX T=45</th>\n",
       "      <td>37.704449</td>\n",
       "      <td>37.704501</td>\n",
       "      <td>37.700448</td>\n",
       "    </tr>\n",
       "    <tr>\n",
       "      <th>SPY T=45</th>\n",
       "      <td>25.994212</td>\n",
       "      <td>25.994234</td>\n",
       "      <td>25.992678</td>\n",
       "    </tr>\n",
       "  </tbody>\n",
       "</table>\n",
       "</div>"
      ],
      "text/plain": [
       "          Black-Scholes  Bachelier       SABR\n",
       "SPX T=45      37.704449  37.704501  37.700448\n",
       "SPY T=45      25.994212  25.994234  25.992678"
      ]
     },
     "execution_count": 58,
     "metadata": {},
     "output_type": "execute_result"
    }
   ],
   "source": [
    "Static_Replication_all"
   ]
  }
 ],
 "metadata": {
  "kernelspec": {
   "display_name": "Python 3 (ipykernel)",
   "language": "python",
   "name": "python3"
  },
  "language_info": {
   "codemirror_mode": {
    "name": "ipython",
    "version": 3
   },
   "file_extension": ".py",
   "mimetype": "text/x-python",
   "name": "python",
   "nbconvert_exporter": "python",
   "pygments_lexer": "ipython3",
   "version": "3.11.4"
  }
 },
 "nbformat": 4,
 "nbformat_minor": 5
}
